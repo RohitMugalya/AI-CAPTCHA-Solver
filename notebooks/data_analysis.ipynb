{
 "cells": [
  {
   "cell_type": "code",
   "execution_count": 12,
   "id": "6f144d86",
   "metadata": {},
   "outputs": [],
   "source": [
    "from PIL import Image\n",
    "import cv2\n",
    "\n",
    "import numpy as np\n",
    "import matplotlib.pyplot as plt\n",
    "\n",
    "from captcha.image import ImageCaptcha"
   ]
  },
  {
   "cell_type": "code",
   "execution_count": 13,
   "id": "33c11c0b",
   "metadata": {},
   "outputs": [],
   "source": [
    "def vertical_filter(image):\n",
    "    img_arr = np.array(image, dtype=np.float32)\n",
    "    \n",
    "    height, width = img_arr.shape\n",
    "    for h in range(height):\n",
    "        for w in range(width - 1):\n",
    "            img_arr[h, w] = abs(img_arr[h, w] - img_arr[h, w + 1])\n",
    "    \n",
    "    return img_arr\n",
    "\n",
    "\n",
    "def horizontal_filter(image):\n",
    "    img_arr = np.array(image, dtype=np.float32)\n",
    "    \n",
    "    height, width = img_arr.shape\n",
    "    for h in range(height - 1):\n",
    "        for w in range(width):\n",
    "            img_arr[h, w] = abs(img_arr[h, w] - img_arr[h + 1, w])\n",
    "    \n",
    "    return img_arr\n",
    "\n",
    "\n",
    "def plot_filters(image, show=False, ret=False):\n",
    "    vf = vertical_filter(image)\n",
    "    hf = horizontal_filter(image)\n",
    "    \n",
    "    if show:\n",
    "        Image.fromarray(vf).show()\n",
    "        Image.fromarray(hf).show()\n",
    "    \n",
    "    fig, (ax1, ax2) = plt.subplots(1, 2)\n",
    "\n",
    "    ax1.imshow(vf)\n",
    "    ax2.imshow(hf)\n",
    "    ax1.set_title(\"Vertical Filter\")\n",
    "    ax2.set_title(\"Horizontal Filter\")\n",
    "\n",
    "    fig.set_size_inches(9, 4)\n",
    "    plt.tight_layout()\n",
    "    \n",
    "    if ret:\n",
    "        return vf, hf\n",
    "\n",
    "def color_scaler(img):\n",
    "    arr = np.array(img)\n",
    "    height, width = arr.shape\n",
    "    for h in range(height):\n",
    "        for w in range(width):\n",
    "            arr[h, w] = 255 if arr[h, w] > 150 else 0\n",
    "    \n",
    "    return arr\n",
    "\n",
    "def apply_sobel_edge_detection(pil_image):\n",
    "    gray_image = pil_image.convert(\"L\")\n",
    "    img_np = np.array(gray_image)\n",
    "    sobelx = cv2.Sobel(img_np, cv2.CV_64F, 1, 0, ksize=3)\n",
    "    sobely = cv2.Sobel(img_np, cv2.CV_64F, 0, 1, ksize=3)\n",
    "    sobel_combined = np.sqrt(sobelx**2 + sobely**2)\n",
    "    sobel_normalized = np.uint8(255 * sobel_combined / np.max(sobel_combined))\n",
    "    edge_image = Image.fromarray(sobel_normalized)\n",
    "    return edge_image"
   ]
  },
  {
   "cell_type": "code",
   "execution_count": 6,
   "id": "b5ac7438",
   "metadata": {},
   "outputs": [],
   "source": [
    "filepath = \"../data/raw/ADORJG.png\"\n",
    "captcha_img = Image.open(filepath).convert(\"L\")\n",
    "captcha_arr = np.array(captcha_img)"
   ]
  },
  {
   "cell_type": "code",
   "execution_count": 7,
   "id": "32b461c4",
   "metadata": {},
   "outputs": [],
   "source": [
    "scaled_arr = color_scaler(captcha_img)\n",
    "scaled_img = Image.fromarray(scaled_arr)"
   ]
  },
  {
   "cell_type": "code",
   "execution_count": 8,
   "id": "49a455d7",
   "metadata": {},
   "outputs": [],
   "source": [
    "scaled_img.show()"
   ]
  },
  {
   "cell_type": "code",
   "execution_count": 9,
   "id": "a7bf903c",
   "metadata": {},
   "outputs": [],
   "source": [
    "vf = vertical_filter(scaled_arr)\n",
    "hf = horizontal_filter(vf)"
   ]
  },
  {
   "cell_type": "code",
   "execution_count": 16,
   "id": "21219540",
   "metadata": {},
   "outputs": [],
   "source": [
    "Image.fromarray(vf).show()"
   ]
  },
  {
   "cell_type": "code",
   "execution_count": 15,
   "id": "aa035440",
   "metadata": {},
   "outputs": [],
   "source": [
    "apply_sobel_edge_detection(captcha_img).show()"
   ]
  },
  {
   "cell_type": "code",
   "execution_count": null,
   "id": "4e8b89a1",
   "metadata": {},
   "outputs": [],
   "source": []
  }
 ],
 "metadata": {
  "kernelspec": {
   "display_name": "venv",
   "language": "python",
   "name": "python3"
  },
  "language_info": {
   "codemirror_mode": {
    "name": "ipython",
    "version": 3
   },
   "file_extension": ".py",
   "mimetype": "text/x-python",
   "name": "python",
   "nbconvert_exporter": "python",
   "pygments_lexer": "ipython3",
   "version": "3.11.4"
  }
 },
 "nbformat": 4,
 "nbformat_minor": 5
}
